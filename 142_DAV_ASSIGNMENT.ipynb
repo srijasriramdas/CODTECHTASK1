{
  "nbformat": 4,
  "nbformat_minor": 0,
  "metadata": {
    "colab": {
      "provenance": [],
      "include_colab_link": true
    },
    "kernelspec": {
      "name": "python3",
      "display_name": "Python 3"
    },
    "language_info": {
      "name": "python"
    }
  },
  "cells": [
    {
      "cell_type": "markdown",
      "metadata": {
        "id": "view-in-github",
        "colab_type": "text"
      },
      "source": [
        "<a href=\"https://colab.research.google.com/github/srijasriramdas/CODTECHTASK1/blob/main/142_DAV_ASSIGNMENT.ipynb\" target=\"_parent\"><img src=\"https://colab.research.google.com/assets/colab-badge.svg\" alt=\"Open In Colab\"/></a>"
      ]
    },
    {
      "cell_type": "markdown",
      "source": [],
      "metadata": {
        "id": "RuxLbo31unER"
      }
    },
    {
      "cell_type": "markdown",
      "source": [
        "A. Data Loading & Inspection\n",
        "This step involves importing the dataset using pandas, then performing an initial exploration. We:\n",
        "\n",
        "Load the dataset with pd.read_csv().\n",
        "\n",
        "Use head() and tail() to preview rows.\n",
        "\n",
        "Check data types with dtypes to understand column formats (e.g., numbers, strings, dates).\n",
        "\n",
        "Check for missing values using isna().sum() to identify potential data quality issues.\n",
        "\n",
        "Goal: Understand the structure, size, and quality of the raw data."
      ],
      "metadata": {
        "id": "xAoPd7LJurAN"
      }
    },
    {
      "cell_type": "code",
      "execution_count": null,
      "metadata": {
        "colab": {
          "base_uri": "https://localhost:8080/"
        },
        "id": "Tc7DtJrMji36",
        "outputId": "b8339efb-3ede-429f-bb65-a74b26aa41c6"
      },
      "outputs": [
        {
          "output_type": "stream",
          "name": "stdout",
          "text": [
            "\n",
            "First 5 rows of the dataset:\n",
            "           id   Date  number of bedrooms  number of bathrooms  living area  \\\n",
            "0  6762810145  42491                   5                 2.50         3650   \n",
            "1  6762810635  42491                   4                 2.50         2920   \n",
            "2  6762810998  42491                   5                 2.75         2910   \n",
            "3  6762812605  42491                   4                 2.50         3310   \n",
            "4  6762812919  42491                   3                 2.00         2710   \n",
            "\n",
            "   lot area  number of floors  waterfront present  number of views  \\\n",
            "0      9050               2.0                   0                4   \n",
            "1      4000               1.5                   0                0   \n",
            "2      9480               1.5                   0                0   \n",
            "3     42998               2.0                   0                0   \n",
            "4      4500               1.5                   0                0   \n",
            "\n",
            "   condition of the house  ...  Built Year  Renovation Year  Postal Code  \\\n",
            "0                       5  ...        1921                0       122003   \n",
            "1                       5  ...        1909                0       122004   \n",
            "2                       3  ...        1939                0       122004   \n",
            "3                       3  ...        2001                0       122005   \n",
            "4                       4  ...        1929                0       122006   \n",
            "\n",
            "   Lattitude  Longitude  living_area_renov  lot_area_renov  \\\n",
            "0    52.8645   -114.557               2880            5400   \n",
            "1    52.8878   -114.470               2470            4000   \n",
            "2    52.8852   -114.468               2940            6600   \n",
            "3    52.9532   -114.321               3350           42847   \n",
            "4    52.9047   -114.485               2060            4500   \n",
            "\n",
            "   Number of schools nearby  Distance from the airport    Price  \n",
            "0                         2                         58  2380000  \n",
            "1                         2                         51  1400000  \n",
            "2                         1                         53  1200000  \n",
            "3                         3                         76   838000  \n",
            "4                         1                         51   805000  \n",
            "\n",
            "[5 rows x 23 columns]\n",
            "\n",
            "Last 3 rows of the dataset:\n",
            "               id   Date  number of bedrooms  number of bathrooms  \\\n",
            "14617  6762830618  42734                   2                  1.0   \n",
            "14618  6762830709  42734                   4                  1.0   \n",
            "14619  6762831463  42734                   3                  1.0   \n",
            "\n",
            "       living area  lot area  number of floors  waterfront present  \\\n",
            "14617         1070      6120               1.0                   0   \n",
            "14618         1030      6621               1.0                   0   \n",
            "14619          900      4770               1.0                   0   \n",
            "\n",
            "       number of views  condition of the house  ...  Built Year  \\\n",
            "14617                0                       3  ...        1962   \n",
            "14618                0                       4  ...        1955   \n",
            "14619                0                       3  ...        1969   \n",
            "\n",
            "       Renovation Year  Postal Code  Lattitude  Longitude  living_area_renov  \\\n",
            "14617                0       122056    52.7289   -114.507               1130   \n",
            "14618                0       122042    52.7157   -114.411               1420   \n",
            "14619             2009       122018    52.5338   -114.552                900   \n",
            "\n",
            "       lot_area_renov  Number of schools nearby  Distance from the airport  \\\n",
            "14617            6120                         2                         64   \n",
            "14618            6631                         3                         54   \n",
            "14619            3480                         2                         55   \n",
            "\n",
            "        Price  \n",
            "14617  209000  \n",
            "14618  205000  \n",
            "14619  146000  \n",
            "\n",
            "[3 rows x 23 columns]\n",
            "\n",
            "Data types of each column:\n",
            "id                                         int64\n",
            "Date                                       int64\n",
            "number of bedrooms                         int64\n",
            "number of bathrooms                      float64\n",
            "living area                                int64\n",
            "lot area                                   int64\n",
            "number of floors                         float64\n",
            "waterfront present                         int64\n",
            "number of views                            int64\n",
            "condition of the house                     int64\n",
            "grade of the house                         int64\n",
            "Area of the house(excluding basement)      int64\n",
            "Area of the basement                       int64\n",
            "Built Year                                 int64\n",
            "Renovation Year                            int64\n",
            "Postal Code                                int64\n",
            "Lattitude                                float64\n",
            "Longitude                                float64\n",
            "living_area_renov                          int64\n",
            "lot_area_renov                             int64\n",
            "Number of schools nearby                   int64\n",
            "Distance from the airport                  int64\n",
            "Price                                      int64\n",
            "dtype: object\n",
            "\n",
            "Missing values in each column:\n",
            "id                                       0\n",
            "Date                                     0\n",
            "number of bedrooms                       0\n",
            "number of bathrooms                      0\n",
            "living area                              0\n",
            "lot area                                 0\n",
            "number of floors                         0\n",
            "waterfront present                       0\n",
            "number of views                          0\n",
            "condition of the house                   0\n",
            "grade of the house                       0\n",
            "Area of the house(excluding basement)    0\n",
            "Area of the basement                     0\n",
            "Built Year                               0\n",
            "Renovation Year                          0\n",
            "Postal Code                              0\n",
            "Lattitude                                0\n",
            "Longitude                                0\n",
            "living_area_renov                        0\n",
            "lot_area_renov                           0\n",
            "Number of schools nearby                 0\n",
            "Distance from the airport                0\n",
            "Price                                    0\n",
            "dtype: int64\n"
          ]
        }
      ],
      "source": [
        "import pandas as pd\n",
        "import numpy as np\n",
        "import matplotlib.pyplot as plt\n",
        "import seaborn as sns\n",
        "\n",
        "\n",
        "# --------------------------------------------\n",
        "# A. DATA LOADING & INSPECTION\n",
        "# --------------------------------------------\n",
        "\n",
        "# Upload csv file of dataset\n",
        "from google.colab import files\n",
        "df = pd.read_csv(\"House Price India.csv\")\n",
        "\n",
        "\n",
        "# Display first 5 rows\n",
        "print(\"\\nFirst 5 rows of the dataset:\")\n",
        "print(df.head())\n",
        "\n",
        "# Display last 3 rows\n",
        "print(\"\\nLast 3 rows of the dataset:\")\n",
        "print(df.tail(3))\n",
        "\n",
        "# Check data types\n",
        "print(\"\\nData types of each column:\")\n",
        "print(df.dtypes)\n",
        "\n",
        "# Check missing values\n",
        "print(\"\\nMissing values in each column:\")\n",
        "print(df.isna().sum())\n",
        "\n",
        "\n",
        "\n"
      ]
    },
    {
      "cell_type": "markdown",
      "source": [
        "B. Data Cleaning\n",
        "This step ensures the dataset is clean and ready for analysis:\n",
        "\n",
        "Removes rows with missing values using dropna() (or we can choose to fill them with fillna()).\n",
        "\n",
        "Converts the date column (Posted On) to proper datetime format using pd.to_datetime().\n",
        "\n",
        "Goal: Ensure consistency in data types and remove/handle incomplete data.\n",
        "\n"
      ],
      "metadata": {
        "id": "JOSa_4uquwyT"
      }
    },
    {
      "cell_type": "code",
      "source": [
        "# --------------------------------------------\n",
        "# B. DATA CLEANING\n",
        "# --------------------------------------------\n",
        "\n",
        "# Drop rows with any missing values\n",
        "df = df.dropna()\n",
        "\n",
        "# Convert 'Date' column to datetime if it exists\n",
        "if 'Date' in df.columns:\n",
        "    df['Date'] = pd.to_datetime(df['Date'])\n",
        "\n",
        "print(\"\\nData cleaned. Remaining missing values:\")\n",
        "print(df.isna().sum())\n",
        "\n"
      ],
      "metadata": {
        "colab": {
          "base_uri": "https://localhost:8080/"
        },
        "id": "ruX3jfXylkec",
        "outputId": "de7a1f87-a0db-452d-b4ec-688fb07dd1aa"
      },
      "execution_count": null,
      "outputs": [
        {
          "output_type": "stream",
          "name": "stdout",
          "text": [
            "\n",
            "Data cleaned. Remaining missing values:\n",
            "id                                       0\n",
            "Date                                     0\n",
            "number of bedrooms                       0\n",
            "number of bathrooms                      0\n",
            "living area                              0\n",
            "lot area                                 0\n",
            "number of floors                         0\n",
            "waterfront present                       0\n",
            "number of views                          0\n",
            "condition of the house                   0\n",
            "grade of the house                       0\n",
            "Area of the house(excluding basement)    0\n",
            "Area of the basement                     0\n",
            "Built Year                               0\n",
            "Renovation Year                          0\n",
            "Postal Code                              0\n",
            "Lattitude                                0\n",
            "Longitude                                0\n",
            "living_area_renov                        0\n",
            "lot_area_renov                           0\n",
            "Number of schools nearby                 0\n",
            "Distance from the airport                0\n",
            "Price                                    0\n",
            "dtype: int64\n"
          ]
        }
      ]
    },
    {
      "cell_type": "markdown",
      "source": [
        "C. Basic Analysis (NumPy & Pandas)\n",
        "We perform basic statistical analysis to summarize the dataset:\n",
        "\n",
        "Calculate mean, median, and standard deviation using NumPy or Pandas.\n",
        "\n",
        "Use describe() to get summary stats like min, max, 25th, and 75th percentiles.\n",
        "\n",
        "Apply filters (df[df['Bedrooms'] > 3]) and sorting (sort_values()) to extract useful subsets.\n",
        "\n",
        "Goal: Derive key insights such as average prices and find high-value properties."
      ],
      "metadata": {
        "id": "bcgMyVubuz-k"
      }
    },
    {
      "cell_type": "code",
      "source": [
        "\n",
        "# --------------------------------------------\n",
        "# C. BASIC ANALYSIS (NumPy & Pandas)\n",
        "# --------------------------------------------\n",
        "\n",
        "# Compute stats on Price\n",
        "print(\"\\nPrice statistics:\")\n",
        "print(\"Mean:\", df['Price'].mean())\n",
        "print(\"Median:\", df['Price'].median())\n",
        "print(\"Standard Deviation:\", df['Price'].std())\n",
        "\n",
        "# Summary statistics\n",
        "print(\"\\nSummary statistics:\")\n",
        "print(df.describe())\n",
        "\n",
        "# Filter: Properties with more than 3 bedrooms\n",
        "print(\"\\nProperties with more than 3 bedrooms:\")\n",
        "print(df[df['number of bedrooms'] > 3])\n",
        "\n",
        "# Sort by Price (descending)\n",
        "df_sorted = df.sort_values(by='Price', ascending=False)\n",
        "print(\"\\nTop 5 most expensive properties:\")\n",
        "print(df_sorted.head())\n",
        "\n"
      ],
      "metadata": {
        "colab": {
          "base_uri": "https://localhost:8080/"
        },
        "id": "DTY4RZaMlrY2",
        "outputId": "9a5dc8aa-9a12-46ae-9c14-792184fa9414"
      },
      "execution_count": null,
      "outputs": [
        {
          "output_type": "stream",
          "name": "stdout",
          "text": [
            "\n",
            "Price statistics:\n",
            "Mean: 538932.2183310534\n",
            "Median: 450000.0\n",
            "Standard Deviation: 367532.3808039669\n",
            "\n",
            "Summary statistics:\n",
            "                 id                           Date  number of bedrooms  \\\n",
            "count  1.462000e+04                          14620        14620.000000   \n",
            "mean   6.762821e+09  1970-01-01 00:00:00.000042604            3.379343   \n",
            "min    6.762810e+09  1970-01-01 00:00:00.000042491            1.000000   \n",
            "25%    6.762815e+09  1970-01-01 00:00:00.000042546            3.000000   \n",
            "50%    6.762821e+09  1970-01-01 00:00:00.000042600            3.000000   \n",
            "75%    6.762826e+09  1970-01-01 00:00:00.000042662            4.000000   \n",
            "max    6.762832e+09  1970-01-01 00:00:00.000042734           33.000000   \n",
            "std    6.237575e+03                            NaN            0.938719   \n",
            "\n",
            "       number of bathrooms   living area      lot area  number of floors  \\\n",
            "count         14620.000000  14620.000000  1.462000e+04      14620.000000   \n",
            "mean              2.129583   2098.262996  1.509328e+04          1.502360   \n",
            "min               0.500000    370.000000  5.200000e+02          1.000000   \n",
            "25%               1.750000   1440.000000  5.010750e+03          1.000000   \n",
            "50%               2.250000   1930.000000  7.620000e+03          1.500000   \n",
            "75%               2.500000   2570.000000  1.080000e+04          2.000000   \n",
            "max               8.000000  13540.000000  1.074218e+06          3.500000   \n",
            "std               0.769934    928.275721  3.791962e+04          0.540239   \n",
            "\n",
            "       waterfront present  number of views  condition of the house  ...  \\\n",
            "count        14620.000000     14620.000000            14620.000000  ...   \n",
            "mean             0.007661         0.233105                3.430506  ...   \n",
            "min              0.000000         0.000000                1.000000  ...   \n",
            "25%              0.000000         0.000000                3.000000  ...   \n",
            "50%              0.000000         0.000000                3.000000  ...   \n",
            "75%              0.000000         0.000000                4.000000  ...   \n",
            "max              1.000000         4.000000                5.000000  ...   \n",
            "std              0.087193         0.766259                0.664151  ...   \n",
            "\n",
            "         Built Year  Renovation Year    Postal Code     Lattitude  \\\n",
            "count  14620.000000     14620.000000   14620.000000  14620.000000   \n",
            "mean    1970.926402        90.924008  122033.062244     52.792848   \n",
            "min     1900.000000         0.000000  122003.000000     52.385900   \n",
            "25%     1951.000000         0.000000  122017.000000     52.707600   \n",
            "50%     1975.000000         0.000000  122032.000000     52.806400   \n",
            "75%     1997.000000         0.000000  122048.000000     52.908900   \n",
            "max     2015.000000      2015.000000  122072.000000     53.007600   \n",
            "std       29.493625       416.216661      19.082418      0.137522   \n",
            "\n",
            "          Longitude  living_area_renov  lot_area_renov  \\\n",
            "count  14620.000000       14620.000000    14620.000000   \n",
            "mean    -114.404007        1996.702257    12753.500068   \n",
            "min     -114.709000         460.000000      651.000000   \n",
            "25%     -114.519000        1490.000000     5097.750000   \n",
            "50%     -114.421000        1850.000000     7620.000000   \n",
            "75%     -114.315000        2380.000000    10125.000000   \n",
            "max     -113.505000        6110.000000   560617.000000   \n",
            "std        0.141326         691.093366    26058.414467   \n",
            "\n",
            "       Number of schools nearby  Distance from the airport         Price  \n",
            "count              14620.000000               14620.000000  1.462000e+04  \n",
            "mean                   2.012244                  64.950958  5.389322e+05  \n",
            "min                    1.000000                  50.000000  7.800000e+04  \n",
            "25%                    1.000000                  57.000000  3.200000e+05  \n",
            "50%                    2.000000                  65.000000  4.500000e+05  \n",
            "75%                    3.000000                  73.000000  6.450000e+05  \n",
            "max                    3.000000                  80.000000  7.700000e+06  \n",
            "std                    0.817284                   8.936008  3.675324e+05  \n",
            "\n",
            "[8 rows x 23 columns]\n",
            "\n",
            "Properties with more than 3 bedrooms:\n",
            "               id                          Date  number of bedrooms  \\\n",
            "0      6762810145 1970-01-01 00:00:00.000042491                   5   \n",
            "1      6762810635 1970-01-01 00:00:00.000042491                   4   \n",
            "2      6762810998 1970-01-01 00:00:00.000042491                   5   \n",
            "3      6762812605 1970-01-01 00:00:00.000042491                   4   \n",
            "6      6762813157 1970-01-01 00:00:00.000042491                   5   \n",
            "...           ...                           ...                 ...   \n",
            "14596  6762819669 1970-01-01 00:00:00.000042734                   4   \n",
            "14600  6762821195 1970-01-01 00:00:00.000042734                   4   \n",
            "14608  6762826539 1970-01-01 00:00:00.000042734                   4   \n",
            "14610  6762828349 1970-01-01 00:00:00.000042734                   4   \n",
            "14618  6762830709 1970-01-01 00:00:00.000042734                   4   \n",
            "\n",
            "       number of bathrooms  living area  lot area  number of floors  \\\n",
            "0                     2.50         3650      9050               2.0   \n",
            "1                     2.50         2920      4000               1.5   \n",
            "2                     2.75         2910      9480               1.5   \n",
            "3                     2.50         3310     42998               2.0   \n",
            "6                     3.25         3660     11995               2.0   \n",
            "...                    ...          ...       ...               ...   \n",
            "14596                 2.50         2100      8886               2.0   \n",
            "14600                 1.50         1100      3300               1.0   \n",
            "14608                 2.75         1580      3770               1.0   \n",
            "14610                 2.75         1810      7350               1.0   \n",
            "14618                 1.00         1030      6621               1.0   \n",
            "\n",
            "       waterfront present  number of views  condition of the house  ...  \\\n",
            "0                       0                4                       5  ...   \n",
            "1                       0                0                       5  ...   \n",
            "2                       0                0                       3  ...   \n",
            "3                       0                0                       3  ...   \n",
            "6                       0                2                       3  ...   \n",
            "...                   ...              ...                     ...  ...   \n",
            "14596                   0                0                       4  ...   \n",
            "14600                   0                0                       1  ...   \n",
            "14608                   0                0                       3  ...   \n",
            "14610                   0                0                       4  ...   \n",
            "14618                   0                0                       4  ...   \n",
            "\n",
            "       Built Year  Renovation Year  Postal Code  Lattitude  Longitude  \\\n",
            "0            1921                0       122003    52.8645   -114.557   \n",
            "1            1909                0       122004    52.8878   -114.470   \n",
            "2            1939                0       122004    52.8852   -114.468   \n",
            "3            2001                0       122005    52.9532   -114.321   \n",
            "6            2006                0       122008    52.7637   -114.050   \n",
            "...           ...              ...          ...        ...        ...   \n",
            "14596        1964                0       122030    52.8247   -114.324   \n",
            "14600        1919                0       122044    52.8333   -114.485   \n",
            "14608        2002                0       122055    52.9668   -114.158   \n",
            "14610        1980                0       122065    52.6003   -114.361   \n",
            "14618        1955                0       122042    52.7157   -114.411   \n",
            "\n",
            "       living_area_renov  lot_area_renov  Number of schools nearby  \\\n",
            "0                   2880            5400                         2   \n",
            "1                   2470            4000                         2   \n",
            "2                   2940            6600                         1   \n",
            "3                   3350           42847                         3   \n",
            "6                   3320           11241                         3   \n",
            "...                  ...             ...                       ...   \n",
            "14596               1840            9058                         3   \n",
            "14600               2020            4000                         2   \n",
            "14608               1740            3800                         1   \n",
            "14610               1750            7350                         1   \n",
            "14618               1420            6631                         3   \n",
            "\n",
            "       Distance from the airport    Price  \n",
            "0                             58  2380000  \n",
            "1                             51  1400000  \n",
            "2                             53  1200000  \n",
            "3                             76   838000  \n",
            "6                             72   785000  \n",
            "...                          ...      ...  \n",
            "14596                         79   485000  \n",
            "14600                         50   441000  \n",
            "14608                         51   315000  \n",
            "14610                         73   272000  \n",
            "14618                         54   205000  \n",
            "\n",
            "[6028 rows x 23 columns]\n",
            "\n",
            "Top 5 most expensive properties:\n",
            "               id                          Date  number of bedrooms  \\\n",
            "10503  6762810020 1970-01-01 00:00:00.000042655                   6   \n",
            "2424   6762810021 1970-01-01 00:00:00.000042531                   5   \n",
            "9171   6762810022 1970-01-01 00:00:00.000042631                   6   \n",
            "6244   6762810023 1970-01-01 00:00:00.000042585                   5   \n",
            "10915  6762810026 1970-01-01 00:00:00.000042662                   5   \n",
            "\n",
            "       number of bathrooms  living area  lot area  number of floors  \\\n",
            "10503                 8.00        12050     27600               2.5   \n",
            "2424                  4.50        10040     37325               2.0   \n",
            "9171                  7.75         9890     31374               2.0   \n",
            "6244                  5.75         9200     35069               2.0   \n",
            "10915                 5.25         8010     45517               2.0   \n",
            "\n",
            "       waterfront present  number of views  condition of the house  ...  \\\n",
            "10503                   0                3                       4  ...   \n",
            "2424                    1                2                       3  ...   \n",
            "9171                    0                4                       3  ...   \n",
            "6244                    0                0                       3  ...   \n",
            "10915                   1                4                       3  ...   \n",
            "\n",
            "       Built Year  Renovation Year  Postal Code  Lattitude  Longitude  \\\n",
            "10503        1910             1987       122013    52.8598   -114.513   \n",
            "2424         1940             2001       122048    52.8800   -114.404   \n",
            "9171         2001                0       122071    52.8605   -114.430   \n",
            "6244         2001                0       122071    52.8589   -114.423   \n",
            "10915        1999                0       122010    52.9067   -114.401   \n",
            "\n",
            "       living_area_renov  lot_area_renov  Number of schools nearby  \\\n",
            "10503               3940            8800                         1   \n",
            "2424                3930           25449                         3   \n",
            "9171                4540           42730                         2   \n",
            "6244                3560           24345                         1   \n",
            "10915               3430           26788                         2   \n",
            "\n",
            "       Distance from the airport    Price  \n",
            "10503                         50  7700000  \n",
            "2424                          67  7060000  \n",
            "9171                          75  6890000  \n",
            "6244                          53  5570000  \n",
            "10915                         60  5110000  \n",
            "\n",
            "[5 rows x 23 columns]\n"
          ]
        }
      ]
    },
    {
      "cell_type": "markdown",
      "source": [
        "D. Advanced Operations\n",
        "This part includes more complex transformations and grouping:\n",
        "\n",
        "Create a new column (Price_per_sqft) to evaluate property value per unit area.\n",
        "\n",
        "Use groupby() to calculate average prices by city.\n",
        "\n",
        "Perform dataset merging using pd.merge() (e.g., combining with population data) to enrich the dataset.\n",
        "\n",
        "Goal: Add meaningful features and compare across groups (like cities)."
      ],
      "metadata": {
        "id": "QOASF3IXu26f"
      }
    },
    {
      "cell_type": "code",
      "source": [
        "\n",
        "# --------------------------------------------\n",
        "# D. ADVANCED OPERATIONS\n",
        "# --------------------------------------------\n",
        "\n",
        "# Add a new column: Price per square foot\n",
        "df['Price_per_sqft'] = df['Price'] / df['living area']\n",
        "\n",
        "# Group by Postal Code and compute average price\n",
        "postal_avg = df.groupby('Postal Code')['Price'].mean()\n",
        "print(\"\\nAverage house price by postal code:\")\n",
        "print(postal_avg)\n",
        "\n",
        "# Simulated merge: Assume we have postal population data\n",
        "postal_demo = pd.DataFrame({\n",
        "    'Postal Code': df['Postal Code'].unique(),\n",
        "    'Nearby Malls': np.random.randint(1, 5, size=len(df['Postal Code'].unique()))\n",
        "})\n",
        "merged_df = pd.merge(df, postal_demo, on='Postal Code')\n",
        "print(\"\\nMerged dataset sample:\")\n",
        "print(merged_df.head())\n",
        "\n"
      ],
      "metadata": {
        "colab": {
          "base_uri": "https://localhost:8080/"
        },
        "id": "7pe9HfXrlveK",
        "outputId": "dcb4a585-b791-43fe-daa3-4ee290c63bb3"
      },
      "execution_count": null,
      "outputs": [
        {
          "output_type": "stream",
          "name": "stdout",
          "text": [
            "\n",
            "Average house price by postal code:\n",
            "Postal Code\n",
            "122003    8.503290e+05\n",
            "122004    8.398533e+05\n",
            "122005    6.389622e+05\n",
            "122006    6.136386e+05\n",
            "122007    5.728347e+05\n",
            "              ...     \n",
            "122068    3.153815e+05\n",
            "122069    4.812247e+05\n",
            "122070    2.799618e+05\n",
            "122071    2.348311e+06\n",
            "122072    2.342158e+05\n",
            "Name: Price, Length: 70, dtype: float64\n",
            "\n",
            "Merged dataset sample:\n",
            "           id                          Date  number of bedrooms  \\\n",
            "0  6762810145 1970-01-01 00:00:00.000042491                   5   \n",
            "1  6762810635 1970-01-01 00:00:00.000042491                   4   \n",
            "2  6762810998 1970-01-01 00:00:00.000042491                   5   \n",
            "3  6762812605 1970-01-01 00:00:00.000042491                   4   \n",
            "4  6762812919 1970-01-01 00:00:00.000042491                   3   \n",
            "\n",
            "   number of bathrooms  living area  lot area  number of floors  \\\n",
            "0                 2.50         3650      9050               2.0   \n",
            "1                 2.50         2920      4000               1.5   \n",
            "2                 2.75         2910      9480               1.5   \n",
            "3                 2.50         3310     42998               2.0   \n",
            "4                 2.00         2710      4500               1.5   \n",
            "\n",
            "   waterfront present  number of views  condition of the house  ...  \\\n",
            "0                   0                4                       5  ...   \n",
            "1                   0                0                       5  ...   \n",
            "2                   0                0                       3  ...   \n",
            "3                   0                0                       3  ...   \n",
            "4                   0                0                       4  ...   \n",
            "\n",
            "   Postal Code  Lattitude  Longitude  living_area_renov  lot_area_renov  \\\n",
            "0       122003    52.8645   -114.557               2880            5400   \n",
            "1       122004    52.8878   -114.470               2470            4000   \n",
            "2       122004    52.8852   -114.468               2940            6600   \n",
            "3       122005    52.9532   -114.321               3350           42847   \n",
            "4       122006    52.9047   -114.485               2060            4500   \n",
            "\n",
            "   Number of schools nearby  Distance from the airport    Price  \\\n",
            "0                         2                         58  2380000   \n",
            "1                         2                         51  1400000   \n",
            "2                         1                         53  1200000   \n",
            "3                         3                         76   838000   \n",
            "4                         1                         51   805000   \n",
            "\n",
            "   Price_per_sqft  Nearby Malls  \n",
            "0      652.054795             1  \n",
            "1      479.452055             3  \n",
            "2      412.371134             3  \n",
            "3      253.172205             2  \n",
            "4      297.047970             2  \n",
            "\n",
            "[5 rows x 25 columns]\n"
          ]
        }
      ]
    },
    {
      "cell_type": "markdown",
      "source": [
        "E. Pivot Tables\n",
        "Pivot tables help summarize data across two dimensions:\n",
        "\n",
        "First pivot: Total price aggregated by city using aggfunc='sum'.\n",
        "\n",
        "Second pivot: Mean price by city and furnishing status.\n",
        "\n",
        "Compared with groupby() to highlight similarities or differences.\n",
        "\n",
        "Goal: Summarize and visualize data patterns across multiple categories."
      ],
      "metadata": {
        "id": "tgBJk1b2u9ve"
      }
    },
    {
      "cell_type": "code",
      "source": [
        "\n",
        "# --------------------------------------------\n",
        "# E. PIVOT TABLES\n",
        "# --------------------------------------------\n",
        "\n",
        "# Pivot Table 1: Total price by Postal Code\n",
        "pivot_1 = pd.pivot_table(df, index='Postal Code', values='Price', aggfunc='sum')\n",
        "print(\"\\nTotal price by Postal Code (Pivot Table):\")\n",
        "print(pivot_1)\n",
        "\n",
        "# Pivot Table 2: Average price by number of bedrooms and condition of the house\n",
        "pivot_2 = pd.pivot_table(df, index='number of bedrooms', columns='condition of the house', values='Price', aggfunc='mean')\n",
        "print(\"\\nAverage price by bedrooms & house condition:\")\n",
        "print(pivot_2)\n",
        "\n",
        "# Compare with groupby\n",
        "print(\"\\nCompare with groupby (Price by Postal Code):\")\n",
        "print(df.groupby('Postal Code')['Price'].mean())\n",
        "\n"
      ],
      "metadata": {
        "colab": {
          "base_uri": "https://localhost:8080/"
        },
        "id": "eUbymrwnlzMh",
        "outputId": "4538f49f-1aba-49fd-d7c8-facbc5723c71"
      },
      "execution_count": null,
      "outputs": [
        {
          "output_type": "stream",
          "name": "stdout",
          "text": [
            "\n",
            "Total price by Postal Code (Pivot Table):\n",
            "                 Price\n",
            "Postal Code           \n",
            "122003       110542765\n",
            "122004       131856965\n",
            "122005       265808285\n",
            "122006       243614533\n",
            "122007       226842530\n",
            "...                ...\n",
            "122068        48568749\n",
            "122069        42828996\n",
            "122070        23236830\n",
            "122071        86887500\n",
            "122072        30916483\n",
            "\n",
            "[70 rows x 1 columns]\n",
            "\n",
            "Average price by bedrooms & house condition:\n",
            "condition of the house         1              2             3              4  \\\n",
            "number of bedrooms                                                             \n",
            "1                       350000.0  200000.000000  3.060758e+05  337558.064516   \n",
            "2                       182250.0  238161.071429  3.975414e+05  402595.558000   \n",
            "3                       225990.0  280503.571429  4.641607e+05  448316.289983   \n",
            "4                       445750.0  534949.000000  6.316785e+05  619781.994068   \n",
            "5                            NaN  235500.000000  8.020951e+05  704919.996466   \n",
            "6                       432500.0  305000.000000  7.974089e+05  902398.387097   \n",
            "7                            NaN            NaN  9.503080e+05  991692.833333   \n",
            "8                            NaN            NaN  8.771667e+05  920000.000000   \n",
            "9                            NaN            NaN  7.766663e+05            NaN   \n",
            "10                           NaN            NaN  1.150000e+06  655000.000000   \n",
            "11                           NaN            NaN  5.200000e+05            NaN   \n",
            "33                           NaN            NaN           NaN            NaN   \n",
            "\n",
            "condition of the house             5  \n",
            "number of bedrooms                    \n",
            "1                       3.258056e+05  \n",
            "2                       4.299156e+05  \n",
            "3                       5.222119e+05  \n",
            "4                       7.210451e+05  \n",
            "5                       7.943274e+05  \n",
            "6                       8.762056e+05  \n",
            "7                       1.385000e+06  \n",
            "8                       2.635000e+06  \n",
            "9                                NaN  \n",
            "10                               NaN  \n",
            "11                               NaN  \n",
            "33                      6.400000e+05  \n",
            "\n",
            "Compare with groupby (Price by Postal Code):\n",
            "Postal Code\n",
            "122003    8.503290e+05\n",
            "122004    8.398533e+05\n",
            "122005    6.389622e+05\n",
            "122006    6.136386e+05\n",
            "122007    5.728347e+05\n",
            "              ...     \n",
            "122068    3.153815e+05\n",
            "122069    4.812247e+05\n",
            "122070    2.799618e+05\n",
            "122071    2.348311e+06\n",
            "122072    2.342158e+05\n",
            "Name: Price, Length: 70, dtype: float64\n"
          ]
        }
      ]
    },
    {
      "cell_type": "markdown",
      "source": [
        " F. Data Visualization\n",
        "Visualization helps make insights more intuitive:\n",
        "\n",
        "Histogram shows price distribution.\n",
        "\n",
        "Barplot shows average price per city.\n",
        "\n",
        "Scatter plot helps find trends between Area and Price.\n",
        "\n",
        "Boxplot reveals price distribution across number of bedrooms.\n",
        "\n",
        "Goal: Reveal patterns and outliers using visual tools (Matplotlib & Seaborn)."
      ],
      "metadata": {
        "id": "Jlncevr-vAoU"
      }
    },
    {
      "cell_type": "code",
      "source": [
        "\n",
        "# --------------------------------------------\n",
        "# F. DATA VISUALIZATION\n",
        "# --------------------------------------------\n",
        "\n",
        "# A. Histogram of Price\n",
        "plt.figure(figsize=(8, 4))\n",
        "plt.hist(df['Price'], bins=20, color='skyblue')\n",
        "plt.title('Distribution of House Prices')\n",
        "plt.xlabel('Price')\n",
        "plt.ylabel('Count')\n",
        "plt.show()\n",
        "\n",
        "# B. Seaborn: Avg Price by number of bedrooms\n",
        "plt.figure(figsize=(8, 4))\n",
        "sns.barplot(x='number of bedrooms', y='Price', data=df, estimator=np.mean)\n",
        "plt.title('Avg Price by Number of Bedrooms')\n",
        "plt.show()\n",
        "\n",
        "# C. Seaborn: Living Area vs Price\n",
        "plt.figure(figsize=(8, 4))\n",
        "sns.scatterplot(x='living area', y='Price', data=df)\n",
        "plt.title('Living Area vs Price')\n",
        "plt.show()\n",
        "\n",
        "# D. Advanced: Boxplot of Price by Bedroom Count\n",
        "plt.figure(figsize=(8, 4))\n",
        "sns.boxplot(x='number of bedrooms', y='Price', data=df)\n",
        "plt.title('Price Distribution by Bedroom Count')\n",
        "plt.show()\n",
        "\n"
      ],
      "metadata": {
        "colab": {
          "base_uri": "https://localhost:8080/",
          "height": 1000
        },
        "id": "3RDK8Jxsl1w9",
        "outputId": "9a91b5a2-5e64-4fed-9450-0d3c94cc4931"
      },
      "execution_count": null,
      "outputs": [
        {
          "output_type": "display_data",
          "data": {
            "text/plain": [
              "<Figure size 800x400 with 1 Axes>"
            ],
            "image/png": "[encoded data removed]"
          },
          "metadata": {}
        },
        {
          "output_type": "display_data",
          "data": {
            "text/plain": [
              "<Figure size 800x400 with 1 Axes>"
            ],
            "image/png": "[encoded data removed]"
          },
          "metadata": {}
        },
        {
          "output_type": "display_data",
          "data": {
            "text/plain": [
              "<Figure size 800x400 with 1 Axes>"
            ],
            "image/png": "[encoded data removed]"
          },
          "metadata": {}
        },
        {
          "output_type": "display_data",
          "data": {
            "text/plain": [
              "<Figure size 800x400 with 1 Axes>"
            ],
            "image/png": "[encoded data removed]"
          },
          "metadata": {}
        }
      ]
    },
    {
      "cell_type": "markdown",
      "source": [],
      "metadata": {
        "id": "-KcliV1wvHlz"
      }
    },
    {
      "cell_type": "markdown",
      "source": [],
      "metadata": {
        "id": "YXUb4rlpvHZE"
      }
    },
    {
      "cell_type": "markdown",
      "source": [
        "G. Advanced NumPy Operations\n",
        "We use NumPy for numerical analysis:\n",
        "\n",
        "Z-score normalization of the 'Price' column helps standardize values.\n",
        "\n",
        "Boolean indexing filters specific conditions like medium-sized houses using NumPy logic.\n",
        "\n",
        "Goal: Apply numerical techniques to analyze and segment data efficiently.\n",
        "\n"
      ],
      "metadata": {
        "id": "bKvOPuQxvF0A"
      }
    },
    {
      "cell_type": "markdown",
      "source": [],
      "metadata": {
        "id": "O6sazBTCvEFE"
      }
    },
    {
      "cell_type": "code",
      "source": [
        "\n",
        "# --------------------------------------------\n",
        "# G. ADVANCED NUMPY OPERATIONS\n",
        "# --------------------------------------------\n",
        "\n",
        "# Normalize Price column using z-score\n",
        "price_mean = np.mean(df['Price'])\n",
        "price_std = np.std(df['Price'])\n",
        "df['Price_zscore'] = (df['Price'] - price_mean) / price_std\n",
        "\n",
        "# Boolean indexing: Homes between 1000–2000 sqft\n",
        "area = df['living area'].values\n",
        "medium_homes = df[np.logical_and(area >= 1000, area <= 2000)]\n",
        "print(\"\\nNumber of medium-sized homes (1000–2000 sqft):\", len(medium_homes))\n",
        "\n",
        "\n"
      ],
      "metadata": {
        "colab": {
          "base_uri": "https://localhost:8080/"
        },
        "id": "i7MOFKVul5TT",
        "outputId": "d053d093-1b25-4789-a8c5-ce0314feaac6"
      },
      "execution_count": null,
      "outputs": [
        {
          "output_type": "stream",
          "name": "stdout",
          "text": [
            "\n",
            "Number of medium-sized homes (1000–2000 sqft): 6867\n"
          ]
        }
      ]
    },
    {
      "cell_type": "code",
      "source": [
        "print(\"completed assignment!\")"
      ],
      "metadata": {
        "colab": {
          "base_uri": "https://localhost:8080/"
        },
        "id": "3RGT3mIlmCqy",
        "outputId": "e7757a76-15c9-46e2-e442-29b5b278a2fa"
      },
      "execution_count": null,
      "outputs": [
        {
          "output_type": "stream",
          "name": "stdout",
          "text": [
            "completed assignment!\n"
          ]
        }
      ]
    }
  ]
}